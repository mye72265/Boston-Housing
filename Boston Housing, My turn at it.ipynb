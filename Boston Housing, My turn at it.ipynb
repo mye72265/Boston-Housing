{
 "cells": [
  {
   "cell_type": "markdown",
   "id": "7a11cbf6",
   "metadata": {},
   "source": [
    "### Importing the libraries"
   ]
  },
  {
   "cell_type": "code",
   "execution_count": 1,
   "id": "2f8c7a2c",
   "metadata": {},
   "outputs": [],
   "source": [
    "import matplotlib.pyplot as plt\n",
    "import numpy as np\n",
    "import pandas as pd\n",
    "import seaborn as sns\n",
    "from sklearn.model_selection import cross_val_score\n",
    "from sklearn.metrics import r2_score\n",
    "from sklearn.linear_model import LinearRegression, Lasso, LassoCV, Ridge\n"
   ]
  },
  {
   "cell_type": "code",
   "execution_count": 2,
   "id": "204b43fc",
   "metadata": {
    "scrolled": true
   },
   "outputs": [
    {
     "data": {
      "text/html": [
       "<div>\n",
       "<style scoped>\n",
       "    .dataframe tbody tr th:only-of-type {\n",
       "        vertical-align: middle;\n",
       "    }\n",
       "\n",
       "    .dataframe tbody tr th {\n",
       "        vertical-align: top;\n",
       "    }\n",
       "\n",
       "    .dataframe thead th {\n",
       "        text-align: right;\n",
       "    }\n",
       "</style>\n",
       "<table border=\"1\" class=\"dataframe\">\n",
       "  <thead>\n",
       "    <tr style=\"text-align: right;\">\n",
       "      <th></th>\n",
       "      <th>RM</th>\n",
       "      <th>LSTAT</th>\n",
       "      <th>PTRATIO</th>\n",
       "      <th>MEDV</th>\n",
       "    </tr>\n",
       "  </thead>\n",
       "  <tbody>\n",
       "    <tr>\n",
       "      <th>0</th>\n",
       "      <td>6.575</td>\n",
       "      <td>4.98</td>\n",
       "      <td>15.3</td>\n",
       "      <td>504000.0</td>\n",
       "    </tr>\n",
       "    <tr>\n",
       "      <th>1</th>\n",
       "      <td>6.421</td>\n",
       "      <td>9.14</td>\n",
       "      <td>17.8</td>\n",
       "      <td>453600.0</td>\n",
       "    </tr>\n",
       "    <tr>\n",
       "      <th>2</th>\n",
       "      <td>7.185</td>\n",
       "      <td>4.03</td>\n",
       "      <td>17.8</td>\n",
       "      <td>728700.0</td>\n",
       "    </tr>\n",
       "    <tr>\n",
       "      <th>3</th>\n",
       "      <td>6.998</td>\n",
       "      <td>2.94</td>\n",
       "      <td>18.7</td>\n",
       "      <td>701400.0</td>\n",
       "    </tr>\n",
       "    <tr>\n",
       "      <th>4</th>\n",
       "      <td>7.147</td>\n",
       "      <td>5.33</td>\n",
       "      <td>18.7</td>\n",
       "      <td>760200.0</td>\n",
       "    </tr>\n",
       "  </tbody>\n",
       "</table>\n",
       "</div>"
      ],
      "text/plain": [
       "      RM  LSTAT  PTRATIO      MEDV\n",
       "0  6.575   4.98     15.3  504000.0\n",
       "1  6.421   9.14     17.8  453600.0\n",
       "2  7.185   4.03     17.8  728700.0\n",
       "3  6.998   2.94     18.7  701400.0\n",
       "4  7.147   5.33     18.7  760200.0"
      ]
     },
     "execution_count": 2,
     "metadata": {},
     "output_type": "execute_result"
    }
   ],
   "source": [
    "df = pd.read_csv(r\"D:\\housing.csv\")\n",
    "df.head()"
   ]
  },
  {
   "cell_type": "code",
   "execution_count": 3,
   "id": "ad798838",
   "metadata": {},
   "outputs": [],
   "source": [
    "target_col = \"MEDV\"\n",
    "x = df.drop(target_col, axis=1).values\n",
    "y = df[target_col].values"
   ]
  },
  {
   "cell_type": "markdown",
   "id": "b9784318",
   "metadata": {},
   "source": [
    "### Exploring the Dataset"
   ]
  },
  {
   "cell_type": "code",
   "execution_count": 4,
   "id": "5719d7af",
   "metadata": {},
   "outputs": [
    {
     "data": {
      "text/plain": [
       "Index(['RM', 'LSTAT', 'PTRATIO', 'MEDV'], dtype='object')"
      ]
     },
     "execution_count": 4,
     "metadata": {},
     "output_type": "execute_result"
    }
   ],
   "source": [
    "df.columns"
   ]
  },
  {
   "cell_type": "code",
   "execution_count": 5,
   "id": "341d6969",
   "metadata": {},
   "outputs": [
    {
     "data": {
      "text/plain": [
       "RM         float64\n",
       "LSTAT      float64\n",
       "PTRATIO    float64\n",
       "MEDV       float64\n",
       "dtype: object"
      ]
     },
     "execution_count": 5,
     "metadata": {},
     "output_type": "execute_result"
    }
   ],
   "source": [
    "df.dtypes"
   ]
  },
  {
   "cell_type": "code",
   "execution_count": 6,
   "id": "2e026c13",
   "metadata": {},
   "outputs": [
    {
     "data": {
      "text/plain": [
       "RM         0\n",
       "LSTAT      0\n",
       "PTRATIO    0\n",
       "MEDV       0\n",
       "dtype: int64"
      ]
     },
     "execution_count": 6,
     "metadata": {},
     "output_type": "execute_result"
    }
   ],
   "source": [
    "pd.isnull(df).sum()"
   ]
  },
  {
   "cell_type": "code",
   "execution_count": 7,
   "id": "24f8e2ec",
   "metadata": {},
   "outputs": [
    {
     "data": {
      "text/html": [
       "<div>\n",
       "<style scoped>\n",
       "    .dataframe tbody tr th:only-of-type {\n",
       "        vertical-align: middle;\n",
       "    }\n",
       "\n",
       "    .dataframe tbody tr th {\n",
       "        vertical-align: top;\n",
       "    }\n",
       "\n",
       "    .dataframe thead th {\n",
       "        text-align: right;\n",
       "    }\n",
       "</style>\n",
       "<table border=\"1\" class=\"dataframe\">\n",
       "  <thead>\n",
       "    <tr style=\"text-align: right;\">\n",
       "      <th></th>\n",
       "      <th>RM</th>\n",
       "      <th>LSTAT</th>\n",
       "      <th>PTRATIO</th>\n",
       "      <th>MEDV</th>\n",
       "    </tr>\n",
       "  </thead>\n",
       "  <tbody>\n",
       "    <tr>\n",
       "      <th>count</th>\n",
       "      <td>489.000000</td>\n",
       "      <td>489.000000</td>\n",
       "      <td>489.000000</td>\n",
       "      <td>4.890000e+02</td>\n",
       "    </tr>\n",
       "    <tr>\n",
       "      <th>mean</th>\n",
       "      <td>6.240288</td>\n",
       "      <td>12.939632</td>\n",
       "      <td>18.516564</td>\n",
       "      <td>4.543429e+05</td>\n",
       "    </tr>\n",
       "    <tr>\n",
       "      <th>std</th>\n",
       "      <td>0.643650</td>\n",
       "      <td>7.081990</td>\n",
       "      <td>2.111268</td>\n",
       "      <td>1.653403e+05</td>\n",
       "    </tr>\n",
       "    <tr>\n",
       "      <th>min</th>\n",
       "      <td>3.561000</td>\n",
       "      <td>1.980000</td>\n",
       "      <td>12.600000</td>\n",
       "      <td>1.050000e+05</td>\n",
       "    </tr>\n",
       "    <tr>\n",
       "      <th>25%</th>\n",
       "      <td>5.880000</td>\n",
       "      <td>7.370000</td>\n",
       "      <td>17.400000</td>\n",
       "      <td>3.507000e+05</td>\n",
       "    </tr>\n",
       "    <tr>\n",
       "      <th>50%</th>\n",
       "      <td>6.185000</td>\n",
       "      <td>11.690000</td>\n",
       "      <td>19.100000</td>\n",
       "      <td>4.389000e+05</td>\n",
       "    </tr>\n",
       "    <tr>\n",
       "      <th>75%</th>\n",
       "      <td>6.575000</td>\n",
       "      <td>17.120000</td>\n",
       "      <td>20.200000</td>\n",
       "      <td>5.187000e+05</td>\n",
       "    </tr>\n",
       "    <tr>\n",
       "      <th>max</th>\n",
       "      <td>8.398000</td>\n",
       "      <td>37.970000</td>\n",
       "      <td>22.000000</td>\n",
       "      <td>1.024800e+06</td>\n",
       "    </tr>\n",
       "  </tbody>\n",
       "</table>\n",
       "</div>"
      ],
      "text/plain": [
       "               RM       LSTAT     PTRATIO          MEDV\n",
       "count  489.000000  489.000000  489.000000  4.890000e+02\n",
       "mean     6.240288   12.939632   18.516564  4.543429e+05\n",
       "std      0.643650    7.081990    2.111268  1.653403e+05\n",
       "min      3.561000    1.980000   12.600000  1.050000e+05\n",
       "25%      5.880000    7.370000   17.400000  3.507000e+05\n",
       "50%      6.185000   11.690000   19.100000  4.389000e+05\n",
       "75%      6.575000   17.120000   20.200000  5.187000e+05\n",
       "max      8.398000   37.970000   22.000000  1.024800e+06"
      ]
     },
     "execution_count": 7,
     "metadata": {},
     "output_type": "execute_result"
    }
   ],
   "source": [
    "df.describe()\n",
    "# need to scale"
   ]
  },
  {
   "cell_type": "code",
   "execution_count": 8,
   "id": "d80547a0",
   "metadata": {},
   "outputs": [
    {
     "name": "stdout",
     "output_type": "stream",
     "text": [
      "<class 'pandas.core.frame.DataFrame'>\n",
      "RangeIndex: 489 entries, 0 to 488\n",
      "Data columns (total 4 columns):\n",
      " #   Column   Non-Null Count  Dtype  \n",
      "---  ------   --------------  -----  \n",
      " 0   RM       489 non-null    float64\n",
      " 1   LSTAT    489 non-null    float64\n",
      " 2   PTRATIO  489 non-null    float64\n",
      " 3   MEDV     489 non-null    float64\n",
      "dtypes: float64(4)\n",
      "memory usage: 15.4 KB\n"
     ]
    }
   ],
   "source": [
    "df.info()"
   ]
  },
  {
   "cell_type": "code",
   "execution_count": 9,
   "id": "2742ca4c",
   "metadata": {},
   "outputs": [
    {
     "data": {
      "text/plain": [
       "(489, 4)"
      ]
     },
     "execution_count": 9,
     "metadata": {},
     "output_type": "execute_result"
    }
   ],
   "source": [
    "df.shape"
   ]
  },
  {
   "cell_type": "markdown",
   "id": "9a812ecb",
   "metadata": {},
   "source": [
    "### Utilizing graphs to further explore the data"
   ]
  },
  {
   "cell_type": "code",
   "execution_count": 10,
   "id": "589e126a",
   "metadata": {},
   "outputs": [
    {
     "data": {
      "image/png": "[encoded data removed]",
      "text/plain": [
       "<Figure size 432x288 with 2 Axes>"
      ]
     },
     "metadata": {
      "needs_background": "light"
     },
     "output_type": "display_data"
    }
   ],
   "source": [
    "# plotting correlation heatmap\n",
    "dataplot = sns.heatmap(df.corr(), cmap=\"YlGnBu\", annot=True)"
   ]
  },
  {
   "cell_type": "markdown",
   "id": "3106f2ba",
   "metadata": {},
   "source": [
    "### The number of rooms are highly coordinated with house price, the LSTAT is has a high negative association with house price. LSTAT is percentage of homeowners in the neighborhood considered \"lower class\" (working poor)"
   ]
  },
  {
   "cell_type": "code",
   "execution_count": 12,
   "id": "13a053f2",
   "metadata": {},
   "outputs": [
    {
     "data": {
      "text/plain": [
       "<AxesSubplot:ylabel='Frequency'>"
      ]
     },
     "execution_count": 12,
     "metadata": {},
     "output_type": "execute_result"
    },
    {
     "data": {
      "image/png": "[encoded data removed]",
      "text/plain": [
       "<Figure size 360x360 with 1 Axes>"
      ]
     },
     "metadata": {
      "needs_background": "light"
     },
     "output_type": "display_data"
    }
   ],
   "source": [
    "df.RM.plot(kind = 'hist',bins = 5,figsize = (5,5))"
   ]
  },
  {
   "cell_type": "code",
   "execution_count": 13,
   "id": "01db16a5",
   "metadata": {},
   "outputs": [
    {
     "data": {
      "text/plain": [
       "array([<AxesSubplot:>, <AxesSubplot:>, <AxesSubplot:>], dtype=object)"
      ]
     },
     "execution_count": 13,
     "metadata": {},
     "output_type": "execute_result"
    },
    {
     "data": {
      "image/png": "[encoded data removed]",
      "text/plain": [
       "<Figure size 432x288 with 3 Axes>"
      ]
     },
     "metadata": {
      "needs_background": "light"
     },
     "output_type": "display_data"
    }
   ],
   "source": [
    "# pLOTTING SUBPLOTS OF ALL DATA\n",
    "data1 = df[[\"RM\",\"LSTAT\",\"PTRATIO\"]]\n",
    "data1.plot(subplots = True)\n"
   ]
  },
  {
   "cell_type": "markdown",
   "id": "5f52cbee",
   "metadata": {},
   "source": [
    "### Train Test Split "
   ]
  },
  {
   "cell_type": "code",
   "execution_count": 14,
   "id": "7a919758",
   "metadata": {},
   "outputs": [],
   "source": [
    "#Train Test Split\n",
    "from sklearn.model_selection import train_test_split\n",
    "x_train, x_test, y_train, y_test = train_test_split(x, y, test_size = 0.3)"
   ]
  },
  {
   "cell_type": "code",
   "execution_count": 15,
   "id": "262503b4",
   "metadata": {},
   "outputs": [],
   "source": [
    "x_df_train, x_df_test, y_df_train, y_df_test = train_test_split(df.drop(target_col, axis=1), df[target_col], test_size = 0.3)"
   ]
  },
  {
   "cell_type": "markdown",
   "id": "ab49897f",
   "metadata": {},
   "source": [
    "### Scaling the data"
   ]
  },
  {
   "cell_type": "code",
   "execution_count": 16,
   "id": "9a14838a",
   "metadata": {},
   "outputs": [],
   "source": [
    "#Scaling\n",
    "from sklearn.preprocessing import StandardScaler\n",
    "# standardisation: with the StandardScaler from sklearn\n",
    "\n",
    "# set up the scaler\n",
    "scaler = StandardScaler()\n",
    "\n",
    "# fit the scaler to the train set, it will learn the parameters\n",
    "scaler.fit(x_train)\n",
    "\n",
    "# transform train and test sets\n",
    "x_train_scaled = scaler.transform(x_train)\n",
    "x_test_scaled = scaler.transform(x_test)"
   ]
  },
  {
   "cell_type": "code",
   "execution_count": 19,
   "id": "44962b5e",
   "metadata": {},
   "outputs": [
    {
     "data": {
      "text/plain": [
       "(342, 3)"
      ]
     },
     "execution_count": 19,
     "metadata": {},
     "output_type": "execute_result"
    }
   ],
   "source": [
    "x_train_scaled.shape"
   ]
  },
  {
   "cell_type": "code",
   "execution_count": 20,
   "id": "7dd641f7",
   "metadata": {},
   "outputs": [
    {
     "data": {
      "text/plain": [
       "(342,)"
      ]
     },
     "execution_count": 20,
     "metadata": {},
     "output_type": "execute_result"
    }
   ],
   "source": [
    "y_train.shape\n"
   ]
  },
  {
   "cell_type": "code",
   "execution_count": 21,
   "id": "4f73586d",
   "metadata": {},
   "outputs": [],
   "source": [
    "scaler2=StandardScaler()\n",
    "y_train_scaled=scaler2.fit_transform(y_train.reshape(-1,1)).ravel()\n",
    "y_test_scaled=scaler2.transform(y_test.reshape(-1,1)).ravel()"
   ]
  },
  {
   "cell_type": "markdown",
   "id": "a941b8aa",
   "metadata": {},
   "source": [
    "### Linear Regression Models"
   ]
  },
  {
   "cell_type": "code",
   "execution_count": 22,
   "id": "70b3a3de",
   "metadata": {},
   "outputs": [
    {
     "name": "stdout",
     "output_type": "stream",
     "text": [
      "0.7166798172458935\n"
     ]
    }
   ],
   "source": [
    "# Start with Linear Regression\n",
    "from sklearn.linear_model import LinearRegression\n",
    "regressor = LinearRegression()\n",
    "regressor.fit(x_train_scaled, y_train_scaled)\n",
    "\n",
    "#calculate R-squared of regression model\n",
    "r_squared = regressor.score(x_train_scaled, y_train_scaled)\n",
    "\n",
    "#view R-squared value\n",
    "print(r_squared)\n",
    "\n",
    "\n"
   ]
  },
  {
   "cell_type": "code",
   "execution_count": 23,
   "id": "d45f7c2d",
   "metadata": {},
   "outputs": [
    {
     "data": {
      "text/plain": [
       "array([ 0.61684363,  0.29769577, -0.50876814])"
      ]
     },
     "execution_count": 23,
     "metadata": {},
     "output_type": "execute_result"
    }
   ],
   "source": [
    "scores = cross_val_score(regressor, x, y, scoring =\"r2\", cv=3)\n",
    "scores"
   ]
  },
  {
   "cell_type": "code",
   "execution_count": 26,
   "id": "05f314fa",
   "metadata": {},
   "outputs": [
    {
     "name": "stdout",
     "output_type": "stream",
     "text": [
      "0.7166798172458935\n"
     ]
    }
   ],
   "source": [
    "# Multiple linear regression \n",
    "# Delete this whole code block, its the same as linear regression\n",
    "from sklearn.linear_model import LinearRegression\n",
    "regressor = LinearRegression()\n",
    "regressor.fit(x_train_scaled, y_train_scaled)\n",
    "\n",
    "#calculate R-squared of regression model\n",
    "r_squared = regressor.score(x_train_scaled, y_train_scaled)\n",
    "\n",
    "#view R-squared value\n",
    "print(r_squared)"
   ]
  },
  {
   "cell_type": "markdown",
   "id": "afefac42",
   "metadata": {},
   "source": [
    "### Polynomial Regression"
   ]
  },
  {
   "cell_type": "code",
   "execution_count": 27,
   "id": "34061727",
   "metadata": {},
   "outputs": [
    {
     "name": "stdout",
     "output_type": "stream",
     "text": [
      "0.7166798172458935\n"
     ]
    }
   ],
   "source": [
    "from sklearn.preprocessing import PolynomialFeatures \n",
    "    \n",
    "poly = PolynomialFeatures(degree = 3)\n",
    "x_poly = poly.fit_transform(x_train_scaled)\n",
    "x_poly\n",
    "\n",
    "poly.fit(x_poly, y_train_scaled)\n",
    "lin2 = LinearRegression() \n",
    "lin2.fit(x_poly, y_train_scaled)\n",
    "\n",
    "#fit regression model\n",
    "#poly.fit(x_train_scaled, y_train)\n",
    "\n",
    "#df.to_numpy().shape                                                                          \n",
    "#df.loc[1].to_numpy() \n",
    "#calculate R-squared of regression model\n",
    "#r2 = r_squared(y_train, y_test)\n",
    "\n",
    "#view R-squared value\n",
    "print(r_squared)\n",
    "# When R2<0 , a horizontal line explains the data better than your model.\n"
   ]
  },
  {
   "cell_type": "code",
   "execution_count": 28,
   "id": "3dcf61eb",
   "metadata": {},
   "outputs": [
    {
     "data": {
      "text/plain": [
       "((342, 20), (489,))"
      ]
     },
     "execution_count": 28,
     "metadata": {},
     "output_type": "execute_result"
    }
   ],
   "source": [
    "x_poly.shape,y.shape"
   ]
  },
  {
   "cell_type": "code",
   "execution_count": 29,
   "id": "8ebbb1e1",
   "metadata": {
    "scrolled": false
   },
   "outputs": [
    {
     "data": {
      "text/plain": [
       "LinearRegression()"
      ]
     },
     "execution_count": 29,
     "metadata": {},
     "output_type": "execute_result"
    }
   ],
   "source": [
    "poly.fit(x_poly, y)\n",
    "lin2 = LinearRegression() \n",
    "lin2.fit(x_poly, y_train_scaled)"
   ]
  },
  {
   "cell_type": "code",
   "execution_count": 30,
   "id": "489792c9",
   "metadata": {
    "scrolled": false
   },
   "outputs": [
    {
     "data": {
      "text/plain": [
       "Text(0, 0.5, 'MEDV')"
      ]
     },
     "execution_count": 30,
     "metadata": {},
     "output_type": "execute_result"
    },
    {
     "data": {
      "image/png": "[encoded data removed]",
      "text/plain": [
       "<Figure size 432x288 with 1 Axes>"
      ]
     },
     "metadata": {
      "needs_background": "light"
     },
     "output_type": "display_data"
    }
   ],
   "source": [
    "# Visualising the Polynomial Regression results\n",
    "plt.scatter(x_poly[:, 1], y_train, color = 'blue')\n",
    "  \n",
    "plt.scatter(x_poly[:, 1], lin2.predict(x_poly), color = 'red')\n",
    "plt.title('Polynomial Regression')\n",
    "plt.xlabel('RM')\n",
    "plt.ylabel('MEDV')"
   ]
  },
  {
   "cell_type": "markdown",
   "id": "15e24def",
   "metadata": {},
   "source": [
    "### Lasso Regression"
   ]
  },
  {
   "cell_type": "code",
   "execution_count": 31,
   "id": "0592b643",
   "metadata": {},
   "outputs": [
    {
     "name": "stdout",
     "output_type": "stream",
     "text": [
      "[ 4.73767070e-01 -3.32073715e-01  1.36992642e+00 -5.83973381e-02\n",
      "  1.96077399e-01 -1.10589395e+00  3.83442445e-01  2.17942387e-01\n",
      "  2.16470589e-01 -1.55142040e+00  4.52592843e-01  8.60197414e-01\n",
      " -4.34293051e-01  5.54157228e-01 -1.12229170e+00 -1.32208356e+00\n",
      " -9.95028577e-01 -4.32678519e-02 -4.23805994e-01  1.26257715e+00\n",
      " -1.23756150e+00  5.94157155e-01 -1.14913714e+00 -3.48962281e-01\n",
      " -4.58314184e-01 -3.78797980e-01  5.65674938e-01 -7.96445559e-01\n",
      " -3.72688266e-01  5.48002173e-01 -4.05148699e-01 -3.86148381e-01\n",
      " -1.92424588e-01 -9.15545620e-01 -4.18213323e-01  3.00490249e-01\n",
      "  4.78217813e-01 -3.12708311e-01  1.49483687e+00 -2.79057019e-01\n",
      "  1.90637438e-01 -1.45728045e+00  6.41807213e-01 -9.01033128e-03\n",
      " -2.03929118e-01  3.55543858e-01 -3.35645187e-01 -2.01131194e-02\n",
      "  8.46023239e-01  1.66897125e-01 -4.52858664e-01  4.79942375e-01\n",
      "  7.60726521e-01  1.72891159e-01 -9.13700220e-01 -6.52457912e-01\n",
      " -2.47263019e-01 -5.21121761e-02 -3.63876170e-01  1.21039307e+00\n",
      " -4.26969888e-01  1.31414712e+00 -5.15407233e-02 -6.50402864e-02\n",
      " -9.53823179e-01  8.89337143e-02  3.28421148e-02  2.94413951e-01\n",
      "  6.45590601e-02  3.39386145e-01 -4.60739034e-01 -2.24279386e-01\n",
      " -5.87649800e-01 -3.76898765e-01  8.82469967e-01 -1.84447624e-01\n",
      "  1.10267040e+00 -6.34754636e-01 -1.98150135e-01  8.01677396e-01\n",
      "  5.57368048e-01 -5.24323321e-01  7.99533854e-01  2.83428675e-04\n",
      "  9.91428147e-01  1.17489522e+00 -1.47696767e-01 -4.65934439e-01\n",
      " -3.41315937e-01 -2.04054773e-01 -8.17044736e-03 -2.48746401e-01\n",
      " -4.87731147e-02 -2.57970640e-01 -6.41101083e-01 -6.02317307e-01\n",
      "  9.06557781e-01 -5.83346160e-01 -1.79456687e-01  3.06386657e-01\n",
      "  3.09554601e-01 -3.69947132e-01  2.10904398e-01 -5.24516306e-01\n",
      " -2.16571232e-01 -5.81424194e-01 -2.78800872e-01 -6.63159945e-01\n",
      "  3.00600247e-01 -1.30776379e+00  8.78534619e-01 -8.79617100e-01\n",
      " -1.13226622e+00 -5.61637913e-01  1.24037953e+00 -3.62358307e-01\n",
      " -1.88991439e-01 -1.95375161e-01  4.52607430e-01 -5.01122455e-01\n",
      " -8.95582705e-01  1.04251614e+00  3.37177797e-01 -3.30237738e-01\n",
      " -4.64133234e-01  3.75293929e-01  3.04554797e-01 -2.38206311e-01\n",
      " -5.03644924e-02 -5.48985430e-01 -2.38725425e-01 -4.01858209e-02\n",
      " -1.02699259e-02  5.11561642e-01  1.28618165e+00 -2.50465598e-01\n",
      " -2.37579803e-01 -4.28464484e-01  1.62164610e+00 -4.04659113e-01\n",
      "  5.55845274e-01 -4.20965854e-01  5.43791500e-01  1.27175398e-01\n",
      " -3.36606189e-01 -2.98223599e-01  5.23465020e-01]\n"
     ]
    }
   ],
   "source": [
    "# Lasso Regression\n",
    "from sklearn.linear_model import Lasso, LassoCV\n",
    "lasso = Lasso()\n",
    "\n",
    "lasso_cv = LassoCV(alphas = None, cv = 10, max_iter = 100000, normalize = True)\n",
    "lasso_cv.fit(x_train_scaled, y_train)\n",
    "lasso = Lasso(alpha=0.1)\n",
    "lasso.fit(x_train_scaled, y_train_scaled)\n",
    "#lasso.fit(x_test, y_test)\n",
    "\n",
    "y_pred_lass =lasso.predict(x_test_scaled)\n",
    "print(y_pred_lass)\n",
    "#Lasso().score(x_train, y_train)\n"
   ]
  },
  {
   "cell_type": "code",
   "execution_count": 32,
   "id": "da8d5db0",
   "metadata": {},
   "outputs": [
    {
     "data": {
      "text/plain": [
       "6.8052214486888305"
      ]
     },
     "execution_count": 32,
     "metadata": {},
     "output_type": "execute_result"
    }
   ],
   "source": [
    "# best alpha parameter\n",
    "\n",
    "alpha = lasso_cv.alpha_\n",
    "alpha"
   ]
  },
  {
   "cell_type": "code",
   "execution_count": 33,
   "id": "0066a857",
   "metadata": {},
   "outputs": [
    {
     "data": {
      "text/plain": [
       "Lasso(alpha=6.8052214486888305)"
      ]
     },
     "execution_count": 33,
     "metadata": {},
     "output_type": "execute_result"
    }
   ],
   "source": [
    "lasso2 = Lasso(alpha = lasso_cv.alpha_)\n",
    "lasso2.fit(x_train_scaled, y_train_scaled)"
   ]
  },
  {
   "cell_type": "code",
   "execution_count": 34,
   "id": "80fe131b",
   "metadata": {},
   "outputs": [
    {
     "data": {
      "text/plain": [
       "0.7003920479442162"
      ]
     },
     "execution_count": 34,
     "metadata": {},
     "output_type": "execute_result"
    }
   ],
   "source": [
    "lasso.score(x_train_scaled, y_train_scaled)"
   ]
  },
  {
   "cell_type": "code",
   "execution_count": 35,
   "id": "fe35d389",
   "metadata": {},
   "outputs": [
    {
     "data": {
      "text/plain": [
       "0.6911783099639938"
      ]
     },
     "execution_count": 35,
     "metadata": {},
     "output_type": "execute_result"
    }
   ],
   "source": [
    "lasso.score(x_test_scaled, y_test_scaled)"
   ]
  },
  {
   "cell_type": "markdown",
   "id": "e561c635",
   "metadata": {},
   "source": [
    "### Ridge Regression"
   ]
  },
  {
   "cell_type": "code",
   "execution_count": 36,
   "id": "d50423ff",
   "metadata": {},
   "outputs": [
    {
     "name": "stdout",
     "output_type": "stream",
     "text": [
      "Ridge score:  0.7095830172649829\n"
     ]
    }
   ],
   "source": [
    "# Ridge Regression\n",
    "ridge = Ridge(alpha = .00000001, normalize = True)\n",
    "ridge.fit(x_train_scaled,y_train_scaled)\n",
    "ridge_predict = ridge.predict(x_test_scaled)\n",
    "print('Ridge score: ',ridge.score(x_test_scaled,y_test_scaled))"
   ]
  },
  {
   "cell_type": "markdown",
   "id": "8025218b",
   "metadata": {},
   "source": [
    "### Support Vector Regression"
   ]
  },
  {
   "cell_type": "code",
   "execution_count": 37,
   "id": "0ac51c46",
   "metadata": {},
   "outputs": [
    {
     "name": "stdout",
     "output_type": "stream",
     "text": [
      "0.867760701730116\n"
     ]
    }
   ],
   "source": [
    "from sklearn.svm import SVR\n",
    "regressor = SVR(kernel = 'rbf')\n",
    "regressor.fit(x_train_scaled, y_train_scaled)         \n",
    "\n",
    "#calculate R-squared of regression model\n",
    "r_squared = regressor.score(x_train_scaled, y_train_scaled)\n",
    "\n",
    "#view R-squared value\n",
    "print(r_squared)\n"
   ]
  },
  {
   "cell_type": "markdown",
   "id": "1bd5e7ab",
   "metadata": {},
   "source": [
    "## Support Vector regression was the best fit model.Linear and polynomial regression were close to each other but 15 points lower than SVR. We see that there is a coorelation between the housing price and number of rooms in the house and well as the number of lower income neighbors in the area. More rooms equals increased price and more lower income neighbors equals lower house price as the value of a house is proportional to the area which it is located.\n"
   ]
  }
 ],
 "metadata": {
  "kernelspec": {
   "display_name": "Python 3 (ipykernel)",
   "language": "python",
   "name": "python3"
  },
  "language_info": {
   "codemirror_mode": {
    "name": "ipython",
    "version": 3
   },
   "file_extension": ".py",
   "mimetype": "text/x-python",
   "name": "python",
   "nbconvert_exporter": "python",
   "pygments_lexer": "ipython3",
   "version": "3.8.11"
  }
 },
 "nbformat": 4,
 "nbformat_minor": 5
}
